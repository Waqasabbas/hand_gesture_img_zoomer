{
 "cells": [
  {
   "cell_type": "markdown",
   "id": "7b7340aa",
   "metadata": {},
   "source": [
    "# Virtual Image Zoomer"
   ]
  },
  {
   "cell_type": "code",
   "execution_count": null,
   "id": "b5ea8016",
   "metadata": {},
   "outputs": [],
   "source": [
    "import cv2\n",
    "from cvzone.HandTrackingModule import HandDetector\n",
    "\n",
    "cap = cv2.VideoCapture(0)\n",
    "cap.set(3, 1280)\n",
    "cap.set(4, 720)\n",
    "startDist = None\n",
    "scale = 0\n",
    "detector = HandDetector(detectionCon = 0.8)\n",
    "\n",
    "cx,cy = 280,280\n",
    "\n",
    "while True:\n",
    "    success, img = cap.read()\n",
    "    hands, img = detector.findHands(img)\n",
    "    \n",
    "    img1 = cv2.imread(\"rick2.jpg\")\n",
    "    \n",
    "    if len(hands)==2:\n",
    "        if detector.fingersUp(hands[0])==[1,1,0,0,0] and detector.fingersUp(hands[1])==[1,1,0,0,0]:\n",
    "            lmList1 = hands[0][\"lmList\"]\n",
    "            lmList2 = hands[1][\"lmList\"]\n",
    "            \n",
    "            if startDist is None:\n",
    "                length, info, img = detector.findDistance([lmList1[8][0],lmList1[8][1]], [lmList2[8][0],lmList2[8][1]] , img)\n",
    "                startDist = length\n",
    "            length, info, img = detector.findDistance([lmList1[8][0],lmList1[8][1]], [lmList2[8][0],lmList2[8][1]] , img)\n",
    "            scale = int((length - startDist)//2)\n",
    "            cx,cy = info[4:]\n",
    "    else:\n",
    "        startDist = None\n",
    "    \n",
    "    try:\n",
    "        h1, w1, _= img1.shape\n",
    "        newHeight, newWidth = ((h1+scale)//2)*2, ((w1+scale)//2)*2\n",
    "        img1 = cv2.resize(img1, (newWidth,newHeight))\n",
    "        \n",
    "        img[cy-newHeight//2:cy+newHeight//2,cx-newWidth//2:cx+newWidth//2]= img1\n",
    "    except:\n",
    "        pass\n",
    "    cv2.imshow(\"Image\", img)\n",
    "    cv2.waitKey(1)"
   ]
  },
  {
   "cell_type": "code",
   "execution_count": null,
   "id": "8530fd04",
   "metadata": {},
   "outputs": [],
   "source": []
  }
 ],
 "metadata": {
  "kernelspec": {
   "display_name": "Python 3 (ipykernel)",
   "language": "python",
   "name": "python3"
  },
  "language_info": {
   "codemirror_mode": {
    "name": "ipython",
    "version": 3
   },
   "file_extension": ".py",
   "mimetype": "text/x-python",
   "name": "python",
   "nbconvert_exporter": "python",
   "pygments_lexer": "ipython3",
   "version": "3.9.7"
  }
 },
 "nbformat": 4,
 "nbformat_minor": 5
}
